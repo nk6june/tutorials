{
 "cells": [
  {
   "cell_type": "markdown",
   "metadata": {},
   "source": [
    "# Introduction to Data Analysis with Python datatable\n",
    "\n",
    "## Outline:\n",
    "\n",
    "- Prerequisites\n",
    "- Objective\n",
    "- Task 0: Introduction to Python datatable\n",
    "- Task 1: datatable vs pandas\n",
    "- Task 2: Understand the dataset\n",
    "- Task 3: datatable - Data Wrangling\n",
    "- Task 4: Exploratory Data Analysis\n",
    "- Task 5: Model Development\n",
    "- Task 6: Model Evaluation\n",
    "- Task 7: Q&A"
   ]
  },
  {
   "cell_type": "markdown",
   "metadata": {},
   "source": [
    "## Task 2: Understand the dataset\n",
    "\n",
    "### LendingClub \n",
    "\n",
    "In this tutorial, we will use a banking loan scenario with the goal of building a linear regression model to predict the \"interest rate\" from \"loan amount\" and \"installment\" using the loan default by using Kaggle's latest LendingClub dataset. "
   ]
  },
  {
   "cell_type": "markdown",
   "metadata": {},
   "source": [
    "Read more about the Lending Club dataset. [Kaggle's Lending Club dataset](https://www.kaggle.com/wendykan/lending-club-loan-data).\n"
   ]
  },
  {
   "cell_type": "markdown",
   "metadata": {},
   "source": [
    "### Import Python datable Package"
   ]
  },
  {
   "cell_type": "code",
   "execution_count": null,
   "metadata": {},
   "outputs": [],
   "source": [
    "#!pip install datatable"
   ]
  },
  {
   "cell_type": "code",
   "execution_count": null,
   "metadata": {},
   "outputs": [],
   "source": [
    "# Import Python datatable and other necessary libraries\n",
    "\n",
    "import datatable as dt\n",
    "import pandas as pd\n",
    "import numpy as np\n",
    "import time\n",
    "from datatable import f,mean, sd\n",
    "# dt.init_styles      Available in datatable version 0.10.0\n",
    "print(dt.__version__)"
   ]
  },
  {
   "cell_type": "markdown",
   "metadata": {},
   "source": [
    "### Read/Import data"
   ]
  },
  {
   "cell_type": "code",
   "execution_count": null,
   "metadata": {},
   "outputs": [],
   "source": [
    "# Import loan csv file and create frame with Python datatable\n",
    "\n",
    "# Read loan.csv file\n",
    "%time dt_loan= dt.fread(\"https://s3.amazonaws.com/data.h2o.ai/H2O-3-Tutorials/loan.csv\", fill=True)\n",
    "\n",
    "# Read browseNotes\n",
    "dt_loan_dict= dt.fread(\"https://s3.amazonaws.com/data.h2o.ai/H2O-3-Tutorials/browseNotes.csv\", fill=True) "
   ]
  },
  {
   "cell_type": "code",
   "execution_count": null,
   "metadata": {},
   "outputs": [],
   "source": [
    "# Import loan csv file to create frame with Pandas\n",
    "\n",
    "%time pd_loan= pd.read_csv(\"https://s3.amazonaws.com/data.h2o.ai/H2O-3-Tutorials/loan.csv\")"
   ]
  },
  {
   "cell_type": "markdown",
   "metadata": {},
   "source": [
    "### Let's look at the loan dataframe"
   ]
  },
  {
   "cell_type": "markdown",
   "metadata": {},
   "source": [
    "A few of the basic properties of the dataframe "
   ]
  },
  {
   "cell_type": "code",
   "execution_count": null,
   "metadata": {},
   "outputs": [],
   "source": [
    "# Size of the frame(shape)  - number of rows by columns using print(dt_loan.shape)  \n",
    "\n"
   ]
  },
  {
   "cell_type": "code",
   "execution_count": null,
   "metadata": {},
   "outputs": [],
   "source": [
    "# Column names(names) - Top get the first 10 column names using print(dt_loan.names[:10]) \n"
   ]
  },
  {
   "cell_type": "code",
   "execution_count": null,
   "metadata": {},
   "outputs": [],
   "source": [
    "# Column Types(top 5)(stypes) using print(dt_loan.stypes[:5]) \n"
   ]
  },
  {
   "cell_type": "markdown",
   "metadata": {},
   "source": [
    "### Viewing the first 10 rows and last 5 rows of the loans dataframe\n",
    "\n",
    "Using the name of the newly created dataframe  we can also view the first 10 rows and the last 5 rows.\n"
   ]
  },
  {
   "cell_type": "code",
   "execution_count": null,
   "metadata": {},
   "outputs": [],
   "source": [
    "dt_loan"
   ]
  },
  {
   "cell_type": "markdown",
   "metadata": {},
   "source": [
    "### Viewing the first 10 feature(column) definitions"
   ]
  },
  {
   "cell_type": "code",
   "execution_count": null,
   "metadata": {},
   "outputs": [],
   "source": [
    "# No need for head(), just enter the name of the frame_dict\n",
    "\n",
    "dt_loan_dict"
   ]
  },
  {
   "cell_type": "markdown",
   "metadata": {},
   "source": [
    "## Task 3: Data Wrangling \n",
    "\n",
    "**Data manipulation with Python datatable**"
   ]
  },
  {
   "cell_type": "markdown",
   "metadata": {},
   "source": [
    "### Python datatable- delete function\n",
    "\n",
    "We will start by using the delete function ```del DT[i,j]``` to delete the columns *'id'*, *'member_id'*, *'url'*, and *'desc'*. "
   ]
  },
  {
   "cell_type": "code",
   "execution_count": null,
   "metadata": {},
   "outputs": [],
   "source": [
    "# Delete the following columns 'id','member_id','url', 'desc'\n"
   ]
  },
  {
   "cell_type": "code",
   "execution_count": null,
   "metadata": {},
   "outputs": [],
   "source": [
    "# View newly trimmed dataframe\n"
   ]
  },
  {
   "cell_type": "code",
   "execution_count": null,
   "metadata": {},
   "outputs": [],
   "source": [
    "### Pandas index as a new dataframe"
   ]
  },
  {
   "cell_type": "code",
   "execution_count": null,
   "metadata": {},
   "outputs": [],
   "source": [
    "pd_id = pd.DataFrame(pd_loan.index, columns=['id'])\n",
    "\n",
    "# Alternative in Python datatable\n",
    "# dt['id'] = range(dt_loan.nrows)"
   ]
  },
  {
   "cell_type": "code",
   "execution_count": null,
   "metadata": {},
   "outputs": [],
   "source": [
    "# Convert Pandas dataframe to Python datatable dataframe\n",
    "\n",
    "dt_id = dt.Frame(pd_id)"
   ]
  },
  {
   "cell_type": "code",
   "execution_count": null,
   "metadata": {},
   "outputs": [],
   "source": [
    "# View the new dt_id dataframe\n"
   ]
  },
  {
   "cell_type": "markdown",
   "metadata": {},
   "source": [
    "### Python datatable cbind()"
   ]
  },
  {
   "cell_type": "code",
   "execution_count": null,
   "metadata": {},
   "outputs": [],
   "source": [
    "# Use cbind() to bind the dt_loan dataframe to new dt_id frame, then set dt_loan = dt_id\n"
   ]
  },
  {
   "cell_type": "code",
   "execution_count": null,
   "metadata": {},
   "outputs": [],
   "source": [
    "# View the new dt_loan dataframe\n"
   ]
  },
  {
   "cell_type": "markdown",
   "metadata": {},
   "source": [
    "## Task 4 - Exploratory Analysis"
   ]
  },
  {
   "cell_type": "code",
   "execution_count": null,
   "metadata": {},
   "outputs": [],
   "source": [
    "# Timing how long it takes to calculate the mean using Python datatable using %time dt_loan.mean()\n"
   ]
  },
  {
   "cell_type": "markdown",
   "metadata": {},
   "source": [
    "**Note** that the mean loan amount for this dataset is $1,5046.9"
   ]
  },
  {
   "cell_type": "code",
   "execution_count": null,
   "metadata": {},
   "outputs": [],
   "source": [
    "# Finding the mean using Pandas - DO NOT RUN\n",
    "\n",
    "# %time pd_loan.mean()"
   ]
  },
  {
   "cell_type": "markdown",
   "metadata": {},
   "source": [
    "JupyterLab freezes everytime this command is ran so the commands were commented out. "
   ]
  },
  {
   "cell_type": "code",
   "execution_count": null,
   "metadata": {},
   "outputs": [],
   "source": [
    "# Printing the mean using dt_loan.max()\n"
   ]
  },
  {
   "cell_type": "markdown",
   "metadata": {},
   "source": [
    "**Note** the maximum amount loaned was $40,000 which is consistent with the Lending Club site for personal loans."
   ]
  },
  {
   "cell_type": "code",
   "execution_count": null,
   "metadata": {},
   "outputs": [],
   "source": [
    "# Printing the mean using dt_loan.min()\n"
   ]
  },
  {
   "cell_type": "markdown",
   "metadata": {},
   "source": [
    "**Note** minimum amount loaned was $500 which is consistent with the Lending Club site for personal loans."
   ]
  },
  {
   "cell_type": "code",
   "execution_count": null,
   "metadata": {},
   "outputs": [],
   "source": [
    "# Printing the mean using dt_loan.mode()\n"
   ]
  },
  {
   "cell_type": "markdown",
   "metadata": {},
   "source": [
    "**Note** that the mode for the amount loaned was $10,000 which is consistent with the Lending Club site for personal loans."
   ]
  },
  {
   "cell_type": "code",
   "execution_count": null,
   "metadata": {},
   "outputs": [],
   "source": [
    "# Printing the mean using dt_loan.sd()\n"
   ]
  },
  {
   "cell_type": "markdown",
   "metadata": {},
   "source": [
    "**Note:** that the sd or stardard deviation for the amount loaned is $9,190.25."
   ]
  },
  {
   "cell_type": "markdown",
   "metadata": {},
   "source": [
    "### Sort the frame"
   ]
  },
  {
   "cell_type": "code",
   "execution_count": null,
   "metadata": {},
   "outputs": [],
   "source": [
    "# Timing how long it takes to sort the dataframe by a column with Python datatable \n",
    "# using %time sorted_loans = dt_loan.sort(\"loan_amnt\")\n"
   ]
  },
  {
   "cell_type": "code",
   "execution_count": null,
   "metadata": {},
   "outputs": [],
   "source": [
    "# View the sorted loans dataframe with sorted_loans\n"
   ]
  },
  {
   "cell_type": "code",
   "execution_count": null,
   "metadata": {},
   "outputs": [],
   "source": [
    "# Time how long it takes to sort the dataframe by a column with Pandas\n",
    "\n",
    "%time pd_loan.sort_values(by=\"loan_amnt\")"
   ]
  },
  {
   "cell_type": "markdown",
   "metadata": {},
   "source": [
    "### GroupBy Operation"
   ]
  },
  {
   "cell_type": "code",
   "execution_count": null,
   "metadata": {},
   "outputs": [],
   "source": [
    "# GroupBy with Python datatable\n",
    "\n",
    "start = time.time()\n",
    "for i in range(100):\n",
    "    dt_loan[:, dt.sum(f.loan_amnt), dt.by(f.grade)]\n",
    "end = time.time()\n",
    "print(end - start)"
   ]
  },
  {
   "cell_type": "code",
   "execution_count": null,
   "metadata": {},
   "outputs": [],
   "source": [
    "# View the grouped dataframe\n",
    "# use dt_loan[:, dt.sum(f.loan_amnt), dt.by(f.grade)]\n"
   ]
  },
  {
   "cell_type": "markdown",
   "metadata": {},
   "source": [
    "### GroupBy with Pandas"
   ]
  },
  {
   "cell_type": "code",
   "execution_count": null,
   "metadata": {},
   "outputs": [],
   "source": [
    "# GroupBy with Pandas\n",
    "\n",
    "start = time.time()\n",
    "for i in range(100):\n",
    "    pd_loan.groupby(\"grade\")[\"loan_amnt\"].sum()\n",
    "end = time.time()\n",
    "print(end - start)"
   ]
  },
  {
   "cell_type": "markdown",
   "metadata": {},
   "source": [
    "### Filtering rows"
   ]
  },
  {
   "cell_type": "code",
   "execution_count": null,
   "metadata": {},
   "outputs": [],
   "source": [
    "# Filter with Python datatable\n",
    "\n",
    "start = time.time()\n",
    "for i in range(100):\n",
    "    dt_loan[f.loan_amnt>dt.mean(f.loan_amnt), (\"id\",\"loan_amnt\")]\n",
    "end = time.time()\n",
    "print(end - start)\n"
   ]
  },
  {
   "cell_type": "markdown",
   "metadata": {},
   "source": [
    "Filter loan by loan amounts that are greater than the mean value of a loan **$1,5046.9**"
   ]
  },
  {
   "cell_type": "code",
   "execution_count": null,
   "metadata": {},
   "outputs": [],
   "source": [
    "# View the new filtered dataframe using dt_loan[f.loan_amnt>dt.mean(f.loan_amnt), (\"id\",\"loan_amnt\")]\n"
   ]
  },
  {
   "cell_type": "code",
   "execution_count": null,
   "metadata": {},
   "outputs": [],
   "source": [
    "# Filter with Pandas\n",
    "\n",
    "start = time.time()\n",
    "for i in range(100):\n",
    "    pd_loan[\"loan_amnt\"][pd_loan[\"loan_amnt\"] > pd_loan[\"loan_amnt\"].mean()]\n",
    "end = time.time()\n",
    "print(end - start)"
   ]
  },
  {
   "cell_type": "markdown",
   "metadata": {},
   "source": [
    "## Task 5: Model Development"
   ]
  },
  {
   "cell_type": "code",
   "execution_count": null,
   "metadata": {},
   "outputs": [],
   "source": [
    "# Model Delopment sklearn\n",
    "\n",
    "from sklearn.linear_model import LinearRegression\n",
    "\n",
    "model = LinearRegression()\n",
    "model.fit(dt_loan[:,[\"loan_amnt\", \"installment\"]], dt_loan[:,\"int_rate\"])\n",
    "model.coef_"
   ]
  },
  {
   "cell_type": "markdown",
   "metadata": {},
   "source": [
    "## Task 6: Model Explanation"
   ]
  },
  {
   "cell_type": "code",
   "execution_count": null,
   "metadata": {},
   "outputs": [],
   "source": [
    "### Save the Python dataframe to csv using %time dt_loan.to_csv(\"dt_loan.csv\")"
   ]
  },
  {
   "cell_type": "code",
   "execution_count": null,
   "metadata": {},
   "outputs": [],
   "source": [
    "### Save the Pandas dataframe to csv using %time pd_loan.to_csv(\"pd_loan.csv\")"
   ]
  },
  {
   "cell_type": "markdown",
   "metadata": {},
   "source": [
    "## Next version of the tutorial \n",
    "\n",
    "- Create/Update new columns\n",
    "- Joins \n",
    "- Column selection\n",
    "- Functions for multiple columns\n",
    "- Loading from .jay files (Driverless AI)\n",
    "- Model development using H2O's Driverless AI\n"
   ]
  },
  {
   "cell_type": "markdown",
   "metadata": {},
   "source": [
    "## Checkout other H2O.ai Tutorials\n",
    "\n",
    "https://h2oai.github.io/tutorials/"
   ]
  }
 ],
 "metadata": {
  "kernelspec": {
   "display_name": "Python 3",
   "language": "python",
   "name": "python3"
  },
  "language_info": {
   "codemirror_mode": {
    "name": "ipython",
    "version": 3
   },
   "file_extension": ".py",
   "mimetype": "text/x-python",
   "name": "python",
   "nbconvert_exporter": "python",
   "pygments_lexer": "ipython3",
   "version": "3.7.5"
  }
 },
 "nbformat": 4,
 "nbformat_minor": 4
}
